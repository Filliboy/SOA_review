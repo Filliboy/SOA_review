{
  "nbformat": 4,
  "nbformat_minor": 0,
  "metadata": {
    "colab": {
      "name": "LSTM.ipynb",
      "provenance": []
    },
    "kernelspec": {
      "name": "python3",
      "display_name": "Python 3"
    },
    "accelerator": "GPU"
  },
  "cells": [
    {
      "cell_type": "code",
      "metadata": {
        "id": "qLEin9wKti-s"
      },
      "source": [
        "import torch as t\n",
        "import tensorflow as tf\n",
        "from tensorflow.keras.models import Model\n",
        "from tensorflow.keras.layers import Input,LSTM, Conv1D, Flatten, Dropout,Dense,Activation\n",
        "from tensorflow.keras.optimizers import RMSprop\n",
        "\n",
        "import numpy as np\n",
        "from google.colab import drive\n",
        "import re\n",
        "import os\n",
        "import matplotlib.pyplot as plt\n",
        "import pickle"
      ],
      "execution_count": 2,
      "outputs": []
    },
    {
      "cell_type": "code",
      "metadata": {
        "colab": {
          "base_uri": "https://localhost:8080/"
        },
        "id": "h_pfz14Rt3nJ",
        "outputId": "043e068e-98ac-4674-bd9e-58cc3320832a"
      },
      "source": [
        "drive.mount('/content/drive')"
      ],
      "execution_count": 2,
      "outputs": [
        {
          "output_type": "stream",
          "text": [
            "Mounted at /content/drive\n"
          ],
          "name": "stdout"
        }
      ]
    },
    {
      "cell_type": "code",
      "metadata": {
        "id": "oecvfA7JuPf4"
      },
      "source": [
        "def load_deap_pkl(dirr):\r\n",
        "    \"\"\"Open pickled deap dict. Label order: valence, arousal, dominance, liking\"\"\"\r\n",
        "    with open(dirr, 'rb') as f:\r\n",
        "      data= pickle.load(f)\r\n",
        "    return data\r\n",
        "\r\n",
        "def wierd_split(x,y,split):\r\n",
        "    split_size=int(x.shape[2]/split)\r\n",
        "    x_ext=t.zeros(int(x.shape[0]*split),int(split_size*x.shape[1]))\r\n",
        "    y_ext=t.zeros(int(x.shape[0]*split),1)\r\n",
        "    \r\n",
        "    for i in range(x.shape[0]):\r\n",
        "      for h in range(split):\r\n",
        "          x_t=x[i,0,h*split_size:(h+1)*split_size]\r\n",
        "          for j in range(1,x.shape[1]):       \r\n",
        "              temp=x[i, j, h*split_size:(h+1)*split_size]\r\n",
        "              x_t=t.cat((x_t,temp),0)\r\n",
        "      x_ext[h+i*split]=x_t\r\n",
        "\r\n",
        "      if i==0:\r\n",
        "        if y[i]==1:\r\n",
        "            y_ext[0:split]=1\r\n",
        "        else:\r\n",
        "            y_ext[0:split]=0\r\n",
        "      else:\r\n",
        "        if y[i]==1:\r\n",
        "            y_ext[i*split:(i+1)*split]=1\r\n",
        "        else:\r\n",
        "            y_ext[i*split:(i+1)*split]=0\r\n",
        "    \r\n",
        "    x_ext=x_ext.reshape(int(x.shape[0]*split),1,int(split_size*x.shape[1]))\r\n",
        "    print(x_ext.shape,y_ext.shape,y.sum()/y.shape[0]==y_ext.sum()/y_ext.shape[0])\r\n",
        "    return x_ext,y_ext\r\n",
        "\r\n",
        "def data_split_n_extend(x,y,split):\r\n",
        "    new_n=int(x.shape[0]*split)\r\n",
        "    new_seq=int(x.shape[2]/split)\r\n",
        "    ch=x.shape[1]\r\n",
        "    x_ext=x.view(new_n,new_seq,ch)\r\n",
        "    y_ext=t.zeros(new_n,1)\r\n",
        "\r\n",
        "    for i in range(x.shape[0]):\r\n",
        "        if i==0:\r\n",
        "            if y[i]==1:\r\n",
        "                y_ext[0:split]=1\r\n",
        "            else:\r\n",
        "                y_ext[0:split]=0\r\n",
        "        else:\r\n",
        "            if y[i]==1:\r\n",
        "                y_ext[i*split:i*split*2]=1\r\n",
        "            else:\r\n",
        "                y_ext[i*split:i*split*2]=0\r\n",
        "\r\n",
        "    print(x_ext.shape,x_ext.dtype,y_ext.shape,y_ext.dtype,y_ext.sum()/y_ext.shape[0]==y.sum()/y.shape[0])\r\n",
        "\r\n",
        "    return x_ext,y_ext"
      ],
      "execution_count": 12,
      "outputs": []
    },
    {
      "cell_type": "code",
      "metadata": {
        "colab": {
          "base_uri": "https://localhost:8080/"
        },
        "id": "D2ZBhreat6ig",
        "outputId": "3cf6c81a-9c32-49dd-ef60-14227c7c25fb"
      },
      "source": [
        "deap=load_deap_pkl('/content/drive/MyDrive/Exjobb_Filip_Modulai/DEAP_EEG/deap.pkl')\r\n",
        "x=deap['x']\r\n",
        "y=deap['y'][:,3]\r\n",
        "y=(y>=5).to(int)\r\n",
        "print(x.shape,y.shape)"
      ],
      "execution_count": 3,
      "outputs": [
        {
          "output_type": "stream",
          "text": [
            "torch.Size([1280, 32, 8064]) torch.Size([1280])\n"
          ],
          "name": "stdout"
        }
      ]
    },
    {
      "cell_type": "code",
      "metadata": {
        "colab": {
          "base_uri": "https://localhost:8080/"
        },
        "id": "DDLCsPkitoCg",
        "outputId": "54dd9e08-6192-442e-d9c6-f7cb2fbf76e2"
      },
      "source": [
        "x,y=wierd_split(x,y,12)"
      ],
      "execution_count": 4,
      "outputs": [
        {
          "output_type": "stream",
          "text": [
            "torch.Size([15360, 1, 21504]) torch.Size([15360, 1]) tensor(True)\n"
          ],
          "name": "stdout"
        }
      ]
    },
    {
      "cell_type": "code",
      "metadata": {
        "id": "hNJ6RcURt0so"
      },
      "source": [
        "def wierd_lstm(input_shape):\r\n",
        "  tf.keras.backend.clear_session()\r\n",
        "\r\n",
        "  in_lay=Input(shape=(input_shape))\r\n",
        "\r\n",
        "  x=LSTM(64,return_sequences=True)(in_lay)\r\n",
        "  x=Activation('relu')(x)\r\n",
        "\r\n",
        "  x=Dropout(0.2)(x)\r\n",
        "\r\n",
        "  x=LSTM(32)(x)\r\n",
        "  x=Activation('sigmoid')(x)\r\n",
        "\r\n",
        "  x=Dense(1)(x)\r\n",
        "  out_lay=Activation('sigmoid')(x)\r\n",
        "\r\n",
        "  model= Model(inputs=in_lay,outputs=out_lay)\r\n",
        "  model.summary()\r\n",
        "  return model"
      ],
      "execution_count": 5,
      "outputs": []
    },
    {
      "cell_type": "code",
      "metadata": {
        "colab": {
          "base_uri": "https://localhost:8080/",
          "height": 1000
        },
        "id": "XXPdKhZaunoJ",
        "outputId": "bd4be2d0-91fe-427c-a933-6d51a79daf37"
      },
      "source": [
        "input_shape=(1,21504)\r\n",
        "bs=8\r\n",
        "lr=0.001\r\n",
        "n_ep=30\r\n",
        "\r\n",
        "\r\n",
        "model=wierd_lstm(input_shape)\r\n",
        "\r\n",
        "model.compile(loss=tf.keras.losses.BinaryCrossentropy(),\r\n",
        "                optimizer = RMSprop(learning_rate=lr),\r\n",
        "                metrics=[tf.keras.metrics.BinaryAccuracy()])\r\n",
        "\r\n",
        "model_hist = model.fit(x.numpy(),\r\n",
        "                       y.numpy(),\r\n",
        "                       validation_split=0.25,\r\n",
        "                       epochs=n_ep,\r\n",
        "                       batch_size=bs,\r\n",
        "                       verbose=1,\r\n",
        "                       shuffle=True)\r\n",
        "\r\n",
        "plt.figure(figsize=(4, 4))\r\n",
        "plt.title(\"Learning curve\")\r\n",
        "plt.plot(model_hist.history[\"loss\"], label=\"loss\")\r\n",
        "plt.plot(model_hist.history[\"val_loss\"], label=\"val_loss\")\r\n",
        "plt.plot( np.argmin(model_hist.history[\"val_loss\"]),\r\n",
        "np.min(model_hist.history[\"val_loss\"]),\r\n",
        "marker=\"x\", color=\"r\", label=\"best model\")\r\n",
        "plt.xlabel(\"Epochs\")\r\n",
        "plt.ylabel(\"Loss Value\")\r\n",
        "plt.legend();"
      ],
      "execution_count": 6,
      "outputs": [
        {
          "output_type": "stream",
          "text": [
            "Model: \"model\"\n",
            "_________________________________________________________________\n",
            "Layer (type)                 Output Shape              Param #   \n",
            "=================================================================\n",
            "input_1 (InputLayer)         [(None, 1, 21504)]        0         \n",
            "_________________________________________________________________\n",
            "lstm (LSTM)                  (None, 1, 64)             5521664   \n",
            "_________________________________________________________________\n",
            "activation (Activation)      (None, 1, 64)             0         \n",
            "_________________________________________________________________\n",
            "dropout (Dropout)            (None, 1, 64)             0         \n",
            "_________________________________________________________________\n",
            "lstm_1 (LSTM)                (None, 32)                12416     \n",
            "_________________________________________________________________\n",
            "activation_1 (Activation)    (None, 32)                0         \n",
            "_________________________________________________________________\n",
            "dense (Dense)                (None, 1)                 33        \n",
            "_________________________________________________________________\n",
            "activation_2 (Activation)    (None, 1)                 0         \n",
            "=================================================================\n",
            "Total params: 5,534,113\n",
            "Trainable params: 5,534,113\n",
            "Non-trainable params: 0\n",
            "_________________________________________________________________\n",
            "Epoch 1/30\n",
            "1440/1440 [==============================] - 20s 8ms/step - loss: 0.6409 - binary_accuracy: 0.6723 - val_loss: 0.6488 - val_binary_accuracy: 0.6500\n",
            "Epoch 2/30\n",
            "1440/1440 [==============================] - 11s 7ms/step - loss: 0.6299 - binary_accuracy: 0.6777 - val_loss: 0.6552 - val_binary_accuracy: 0.6500\n",
            "Epoch 3/30\n",
            "1440/1440 [==============================] - 10s 7ms/step - loss: 0.6387 - binary_accuracy: 0.6655 - val_loss: 0.6645 - val_binary_accuracy: 0.6500\n",
            "Epoch 4/30\n",
            "1440/1440 [==============================] - 10s 7ms/step - loss: 0.6267 - binary_accuracy: 0.6795 - val_loss: 0.6536 - val_binary_accuracy: 0.6500\n",
            "Epoch 5/30\n",
            "1440/1440 [==============================] - 10s 7ms/step - loss: 0.6291 - binary_accuracy: 0.6739 - val_loss: 0.6510 - val_binary_accuracy: 0.6500\n",
            "Epoch 6/30\n",
            "1440/1440 [==============================] - 10s 7ms/step - loss: 0.6272 - binary_accuracy: 0.6755 - val_loss: 0.6501 - val_binary_accuracy: 0.6503\n",
            "Epoch 7/30\n",
            "1440/1440 [==============================] - 11s 7ms/step - loss: 0.6178 - binary_accuracy: 0.6858 - val_loss: 0.6513 - val_binary_accuracy: 0.6497\n",
            "Epoch 8/30\n",
            "1440/1440 [==============================] - 11s 7ms/step - loss: 0.6243 - binary_accuracy: 0.6790 - val_loss: 0.6548 - val_binary_accuracy: 0.6487\n",
            "Epoch 9/30\n",
            "1440/1440 [==============================] - 11s 7ms/step - loss: 0.6262 - binary_accuracy: 0.6750 - val_loss: 0.6499 - val_binary_accuracy: 0.6466\n",
            "Epoch 10/30\n",
            "1440/1440 [==============================] - 10s 7ms/step - loss: 0.6244 - binary_accuracy: 0.6825 - val_loss: 0.6500 - val_binary_accuracy: 0.6451\n",
            "Epoch 11/30\n",
            "1440/1440 [==============================] - 11s 7ms/step - loss: 0.6182 - binary_accuracy: 0.6875 - val_loss: 0.6557 - val_binary_accuracy: 0.6471\n",
            "Epoch 12/30\n",
            "1440/1440 [==============================] - 11s 7ms/step - loss: 0.6196 - binary_accuracy: 0.6855 - val_loss: 0.6543 - val_binary_accuracy: 0.6484\n",
            "Epoch 13/30\n",
            "1440/1440 [==============================] - 10s 7ms/step - loss: 0.6110 - binary_accuracy: 0.6970 - val_loss: 0.6547 - val_binary_accuracy: 0.6471\n",
            "Epoch 14/30\n",
            "1440/1440 [==============================] - 10s 7ms/step - loss: 0.6197 - binary_accuracy: 0.6865 - val_loss: 0.6529 - val_binary_accuracy: 0.6461\n",
            "Epoch 15/30\n",
            "1440/1440 [==============================] - 11s 7ms/step - loss: 0.6150 - binary_accuracy: 0.6909 - val_loss: 0.6565 - val_binary_accuracy: 0.6443\n",
            "Epoch 16/30\n",
            "1440/1440 [==============================] - 10s 7ms/step - loss: 0.6146 - binary_accuracy: 0.6925 - val_loss: 0.6564 - val_binary_accuracy: 0.6456\n",
            "Epoch 17/30\n",
            "1440/1440 [==============================] - 10s 7ms/step - loss: 0.6121 - binary_accuracy: 0.6941 - val_loss: 0.6606 - val_binary_accuracy: 0.6451\n",
            "Epoch 18/30\n",
            "1440/1440 [==============================] - 11s 7ms/step - loss: 0.6181 - binary_accuracy: 0.6869 - val_loss: 0.6571 - val_binary_accuracy: 0.6438\n",
            "Epoch 19/30\n",
            "1440/1440 [==============================] - 11s 7ms/step - loss: 0.6097 - binary_accuracy: 0.6941 - val_loss: 0.6626 - val_binary_accuracy: 0.6448\n",
            "Epoch 20/30\n",
            "1440/1440 [==============================] - 11s 7ms/step - loss: 0.6113 - binary_accuracy: 0.6915 - val_loss: 0.6595 - val_binary_accuracy: 0.6443\n",
            "Epoch 21/30\n",
            "1440/1440 [==============================] - 11s 7ms/step - loss: 0.6097 - binary_accuracy: 0.6936 - val_loss: 0.6612 - val_binary_accuracy: 0.6438\n",
            "Epoch 22/30\n",
            "1440/1440 [==============================] - 11s 7ms/step - loss: 0.6165 - binary_accuracy: 0.6844 - val_loss: 0.6623 - val_binary_accuracy: 0.6456\n",
            "Epoch 23/30\n",
            "1440/1440 [==============================] - 11s 7ms/step - loss: 0.6113 - binary_accuracy: 0.6890 - val_loss: 0.6665 - val_binary_accuracy: 0.6443\n",
            "Epoch 24/30\n",
            "1440/1440 [==============================] - 11s 7ms/step - loss: 0.6134 - binary_accuracy: 0.6874 - val_loss: 0.6737 - val_binary_accuracy: 0.6456\n",
            "Epoch 25/30\n",
            "1440/1440 [==============================] - 10s 7ms/step - loss: 0.6049 - binary_accuracy: 0.6966 - val_loss: 0.6637 - val_binary_accuracy: 0.6443\n",
            "Epoch 26/30\n",
            "1440/1440 [==============================] - 10s 7ms/step - loss: 0.6084 - binary_accuracy: 0.6934 - val_loss: 0.6662 - val_binary_accuracy: 0.6440\n",
            "Epoch 27/30\n",
            "1440/1440 [==============================] - 10s 7ms/step - loss: 0.6102 - binary_accuracy: 0.6904 - val_loss: 0.6704 - val_binary_accuracy: 0.6451\n",
            "Epoch 28/30\n",
            "1440/1440 [==============================] - 11s 7ms/step - loss: 0.6059 - binary_accuracy: 0.6920 - val_loss: 0.6695 - val_binary_accuracy: 0.6453\n",
            "Epoch 29/30\n",
            "1440/1440 [==============================] - 11s 7ms/step - loss: 0.6081 - binary_accuracy: 0.6900 - val_loss: 0.6704 - val_binary_accuracy: 0.6453\n",
            "Epoch 30/30\n",
            "1440/1440 [==============================] - 11s 7ms/step - loss: 0.6031 - binary_accuracy: 0.6985 - val_loss: 0.6698 - val_binary_accuracy: 0.6448\n"
          ],
          "name": "stdout"
        },
        {
          "output_type": "display_data",
          "data": {
            "image/png": "[encoded data removed]",
            "text/plain": [
              "<Figure size 288x288 with 1 Axes>"
            ]
          },
          "metadata": {
            "tags": [],
            "needs_background": "light"
          }
        }
      ]
    },
    {
      "cell_type": "code",
      "metadata": {
        "colab": {
          "base_uri": "https://localhost:8080/"
        },
        "id": "GQdOLGYfu5Z_",
        "outputId": "8469bc4b-692b-4d68-b941-0e8d506a6b16"
      },
      "source": [
        "\r\n",
        "deap=load_deap_pkl('/content/drive/MyDrive/Exjobb_Filip_Modulai/DEAP_EEG/deap.pkl')\r\n",
        "x=deap['x']\r\n",
        "y=deap['y'][:,3]\r\n",
        "y=(y>=5).to(int)\r\n",
        "print(x.shape,y.shape)"
      ],
      "execution_count": 14,
      "outputs": [
        {
          "output_type": "stream",
          "text": [
            "torch.Size([1280, 32, 8064]) torch.Size([1280])\n"
          ],
          "name": "stdout"
        }
      ]
    },
    {
      "cell_type": "code",
      "metadata": {
        "colab": {
          "base_uri": "https://localhost:8080/"
        },
        "id": "soPUNDeTz5uD",
        "outputId": "1ae6b882-e1e5-4745-b522-20bc932369f6"
      },
      "source": [
        "x,y=data_split_n_extend(x,y,12)"
      ],
      "execution_count": 15,
      "outputs": [
        {
          "output_type": "stream",
          "text": [
            "torch.Size([15360, 672, 32]) torch.float32 torch.Size([15360, 1]) torch.float32 tensor(True)\n"
          ],
          "name": "stdout"
        }
      ]
    },
    {
      "cell_type": "code",
      "metadata": {
        "colab": {
          "base_uri": "https://localhost:8080/",
          "height": 1000
        },
        "id": "THwyBtt80CLQ",
        "outputId": "c6b16e13-2167-4bf7-e03e-2e2ad6e547a5"
      },
      "source": [
        "input_shape=(672,32)\r\n",
        "bs=8\r\n",
        "lr=0.001\r\n",
        "n_ep=30\r\n",
        "\r\n",
        "\r\n",
        "model=wierd_lstm(input_shape)\r\n",
        "\r\n",
        "model.compile(loss=tf.keras.losses.BinaryCrossentropy(),\r\n",
        "                optimizer = RMSprop(learning_rate=lr),\r\n",
        "                metrics=[tf.keras.metrics.BinaryAccuracy()])\r\n",
        "\r\n",
        "model_hist = model.fit(x.numpy(),\r\n",
        "                       y.numpy(),\r\n",
        "                       validation_split=0.25,\r\n",
        "                       epochs=n_ep,\r\n",
        "                       batch_size=bs,\r\n",
        "                       verbose=1,\r\n",
        "                       shuffle=True)\r\n",
        "\r\n",
        "plt.figure(figsize=(4, 4))\r\n",
        "plt.title(\"Learning curve\")\r\n",
        "plt.plot(model_hist.history[\"loss\"], label=\"loss\")\r\n",
        "plt.plot(model_hist.history[\"val_loss\"], label=\"val_loss\")\r\n",
        "plt.plot( np.argmin(model_hist.history[\"val_loss\"]),\r\n",
        "np.min(model_hist.history[\"val_loss\"]),\r\n",
        "marker=\"x\", color=\"r\", label=\"best model\")\r\n",
        "plt.xlabel(\"Epochs\")\r\n",
        "plt.ylabel(\"Loss Value\")\r\n",
        "plt.legend();"
      ],
      "execution_count": 16,
      "outputs": [
        {
          "output_type": "stream",
          "text": [
            "Model: \"model\"\n",
            "_________________________________________________________________\n",
            "Layer (type)                 Output Shape              Param #   \n",
            "=================================================================\n",
            "input_1 (InputLayer)         [(None, 672, 32)]         0         \n",
            "_________________________________________________________________\n",
            "lstm (LSTM)                  (None, 672, 64)           24832     \n",
            "_________________________________________________________________\n",
            "activation (Activation)      (None, 672, 64)           0         \n",
            "_________________________________________________________________\n",
            "dropout (Dropout)            (None, 672, 64)           0         \n",
            "_________________________________________________________________\n",
            "lstm_1 (LSTM)                (None, 32)                12416     \n",
            "_________________________________________________________________\n",
            "activation_1 (Activation)    (None, 32)                0         \n",
            "_________________________________________________________________\n",
            "dense (Dense)                (None, 1)                 33        \n",
            "_________________________________________________________________\n",
            "activation_2 (Activation)    (None, 1)                 0         \n",
            "=================================================================\n",
            "Total params: 37,281\n",
            "Trainable params: 37,281\n",
            "Non-trainable params: 0\n",
            "_________________________________________________________________\n",
            "Epoch 1/30\n",
            "1440/1440 [==============================] - 58s 39ms/step - loss: 0.6297 - binary_accuracy: 0.6769 - val_loss: 0.6479 - val_binary_accuracy: 0.6500\n",
            "Epoch 2/30\n",
            "1440/1440 [==============================] - 55s 38ms/step - loss: 0.6204 - binary_accuracy: 0.6741 - val_loss: 0.6656 - val_binary_accuracy: 0.6500\n",
            "Epoch 3/30\n",
            "1440/1440 [==============================] - 55s 38ms/step - loss: 0.6051 - binary_accuracy: 0.6812 - val_loss: 0.6710 - val_binary_accuracy: 0.6458\n",
            "Epoch 4/30\n",
            "1440/1440 [==============================] - 55s 38ms/step - loss: 0.5857 - binary_accuracy: 0.7025 - val_loss: 0.6856 - val_binary_accuracy: 0.6031\n",
            "Epoch 5/30\n",
            "1440/1440 [==============================] - 56s 39ms/step - loss: 0.5648 - binary_accuracy: 0.7230 - val_loss: 0.6830 - val_binary_accuracy: 0.6242\n",
            "Epoch 6/30\n",
            "1440/1440 [==============================] - 56s 39ms/step - loss: 0.5463 - binary_accuracy: 0.7315 - val_loss: 0.7261 - val_binary_accuracy: 0.5784\n",
            "Epoch 7/30\n",
            "1440/1440 [==============================] - 56s 39ms/step - loss: 0.5242 - binary_accuracy: 0.7456 - val_loss: 0.7161 - val_binary_accuracy: 0.6227\n",
            "Epoch 8/30\n",
            "1440/1440 [==============================] - 56s 39ms/step - loss: 0.4954 - binary_accuracy: 0.7687 - val_loss: 0.7222 - val_binary_accuracy: 0.6042\n",
            "Epoch 9/30\n",
            "1440/1440 [==============================] - 56s 39ms/step - loss: 0.4882 - binary_accuracy: 0.7744 - val_loss: 0.7979 - val_binary_accuracy: 0.5805\n",
            "Epoch 10/30\n",
            "1440/1440 [==============================] - 56s 39ms/step - loss: 0.4626 - binary_accuracy: 0.7890 - val_loss: 0.7682 - val_binary_accuracy: 0.5852\n",
            "Epoch 11/30\n",
            "1440/1440 [==============================] - 56s 39ms/step - loss: 0.4412 - binary_accuracy: 0.8057 - val_loss: 0.8016 - val_binary_accuracy: 0.6109\n",
            "Epoch 12/30\n",
            "1440/1440 [==============================] - 57s 39ms/step - loss: 0.4361 - binary_accuracy: 0.8053 - val_loss: 0.8007 - val_binary_accuracy: 0.5904\n",
            "Epoch 13/30\n",
            "1440/1440 [==============================] - 56s 39ms/step - loss: 0.4204 - binary_accuracy: 0.8125 - val_loss: 0.8145 - val_binary_accuracy: 0.5859\n",
            "Epoch 14/30\n",
            "1440/1440 [==============================] - 56s 39ms/step - loss: 0.4063 - binary_accuracy: 0.8261 - val_loss: 0.8504 - val_binary_accuracy: 0.5669\n",
            "Epoch 15/30\n",
            "1440/1440 [==============================] - 56s 39ms/step - loss: 0.3910 - binary_accuracy: 0.8264 - val_loss: 0.8640 - val_binary_accuracy: 0.6052\n",
            "Epoch 16/30\n",
            "1440/1440 [==============================] - 50s 35ms/step - loss: 0.3798 - binary_accuracy: 0.8402 - val_loss: 0.8796 - val_binary_accuracy: 0.5974\n",
            "Epoch 17/30\n",
            "1440/1440 [==============================] - 51s 35ms/step - loss: 0.3558 - binary_accuracy: 0.8487 - val_loss: 0.9357 - val_binary_accuracy: 0.5818\n",
            "Epoch 18/30\n",
            "1440/1440 [==============================] - 51s 35ms/step - loss: 0.3474 - binary_accuracy: 0.8539 - val_loss: 1.0046 - val_binary_accuracy: 0.5703\n",
            "Epoch 19/30\n",
            "1440/1440 [==============================] - 51s 35ms/step - loss: 0.3410 - binary_accuracy: 0.8540 - val_loss: 1.0141 - val_binary_accuracy: 0.5591\n",
            "Epoch 20/30\n",
            "1440/1440 [==============================] - 51s 36ms/step - loss: 0.3248 - binary_accuracy: 0.8684 - val_loss: 0.9662 - val_binary_accuracy: 0.6065\n",
            "Epoch 21/30\n",
            "1440/1440 [==============================] - 51s 35ms/step - loss: 0.3172 - binary_accuracy: 0.8668 - val_loss: 0.9762 - val_binary_accuracy: 0.5721\n",
            "Epoch 22/30\n",
            "1440/1440 [==============================] - 51s 35ms/step - loss: 0.3138 - binary_accuracy: 0.8668 - val_loss: 1.0003 - val_binary_accuracy: 0.5698\n",
            "Epoch 23/30\n",
            "1440/1440 [==============================] - 56s 39ms/step - loss: 0.3051 - binary_accuracy: 0.8753 - val_loss: 1.0257 - val_binary_accuracy: 0.5987\n",
            "Epoch 24/30\n",
            "1440/1440 [==============================] - 56s 39ms/step - loss: 0.2858 - binary_accuracy: 0.8817 - val_loss: 1.1121 - val_binary_accuracy: 0.5771\n",
            "Epoch 25/30\n",
            "1440/1440 [==============================] - 56s 39ms/step - loss: 0.2831 - binary_accuracy: 0.8816 - val_loss: 1.0686 - val_binary_accuracy: 0.5706\n",
            "Epoch 26/30\n",
            "1440/1440 [==============================] - 56s 39ms/step - loss: 0.2668 - binary_accuracy: 0.8903 - val_loss: 1.1010 - val_binary_accuracy: 0.5911\n",
            "Epoch 27/30\n",
            "1440/1440 [==============================] - 56s 39ms/step - loss: 0.2701 - binary_accuracy: 0.8922 - val_loss: 1.1249 - val_binary_accuracy: 0.5648\n",
            "Epoch 28/30\n",
            "1440/1440 [==============================] - 56s 39ms/step - loss: 0.2623 - binary_accuracy: 0.8935 - val_loss: 1.1016 - val_binary_accuracy: 0.5701\n",
            "Epoch 29/30\n",
            "1440/1440 [==============================] - 56s 39ms/step - loss: 0.2618 - binary_accuracy: 0.8961 - val_loss: 1.2023 - val_binary_accuracy: 0.5661\n",
            "Epoch 30/30\n",
            "1440/1440 [==============================] - 56s 39ms/step - loss: 0.2479 - binary_accuracy: 0.8999 - val_loss: 1.1640 - val_binary_accuracy: 0.5831\n"
          ],
          "name": "stdout"
        },
        {
          "output_type": "display_data",
          "data": {
            "image/png": "[encoded data removed]",
            "text/plain": [
              "<Figure size 288x288 with 1 Axes>"
            ]
          },
          "metadata": {
            "tags": [],
            "needs_background": "light"
          }
        }
      ]
    }
  ]
}